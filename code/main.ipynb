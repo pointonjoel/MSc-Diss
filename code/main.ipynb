{
 "cells": [
  {
   "cell_type": "markdown",
   "source": [
    "# GPT-3.5-Turbo Model\n",
    "Creating a question answering chatbot using GPT-3.5. Adapted from: https://github.com/openai/openai-cookbook/blob/main/examples/Question_answering_using_embeddings.ipynb"
   ],
   "metadata": {
    "collapsed": false
   }
  },
  {
   "cell_type": "code",
   "execution_count": 1,
   "metadata": {
    "collapsed": true
   },
   "outputs": [],
   "source": [
    "# Preamble\n",
    "import PyPDF2 # For parsing PDF documents\n",
    "import ast  # covert embeddings saved as strings back to arrays\n",
    "import openai  # OpenAI API\n",
    "import pandas as pd  # for storing text and embeddings data\n",
    "import numpy as np # for df manipulations\n",
    "import tiktoken  # for counting tokens\n",
    "from scipy import spatial  # for calculating vector similarities for search\n",
    "import wikipedia # For sourcing Wikipedia article text\n",
    "import re  # for cutting <ref> links out of Wikipedia articles\n",
    "import mwparserfromhell  # for splitting Wikipedia articles into sections\n",
    "from copy import deepcopy # for copying dataframes"
   ]
  },
  {
   "cell_type": "code",
   "execution_count": 2,
   "outputs": [],
   "source": [
    "# Config\n",
    "EMBEDDING_MODEL = \"text-embedding-ada-002\"\n",
    "GPT_MODEL = \"gpt-3.5-turbo\"\n",
    "SAVE_PATH = \"assets/computer_vision_wiki_embeddings.csv\"\n",
    "ENCODING = tiktoken.encoding_for_model(GPT_MODEL)\n",
    "BATCH_SIZE = 1000  # you can submit up to 2048 embedding inputs per request\n",
    "ANSWER_NOT_FOUND_MSG = \"I could not find an answer in the text I\\'ve been provided, sorry! Please try again.\""
   ],
   "metadata": {
    "collapsed": false
   }
  },
  {
   "cell_type": "code",
   "execution_count": 113,
   "outputs": [
    {
     "name": "stdout",
     "output_type": "stream",
     "text": [
      "115\n",
      "2.Veryfewvisual taskscanbesuccessfully performed inapurely data-driv en\n",
      "way(\\bottom-up\" image analysis). Consider thenextimage example:\n",
      "aged bytheirtextured backgrounds; thefoxes\n",
      "occlude eachother; theyappearinseveraldi\u000Beren tposesandperspective\n",
      "angles; etc.Howcanthere possibly existmathematical operators forsuch\n",
      "animage thatcan:\n",
      "\u000Fperform the\fgure-ground segmen tation ofthescene (intoitsobjects\n",
      "andbackground)\n",
      "\u000Finferthe3Darrangemen tsofobjectsfromtheirmutual occlusions\n",
      "\u000Finfersurface properties (texture, colour) fromthe2Dimage statistics\n",
      "\u000Finfervolumetric objectproperties fromtheir2Dimage projections\n",
      "\u000Fanddoallofthisin\\real time?\" (This matters quite alotinthe\n",
      "natural world\\redintoothandclaw,\"sincesurviv aldependsonit.)\n",
      "5\n"
     ]
    }
   ],
   "source": [
    "# creating a pdf reader instance\n",
    "reader = PyPDF2.PdfReader('assets/online_notes.pdf')\n",
    "\n",
    "# print the number of pages in pdf file\n",
    "print(len(reader.pages))\n",
    "\n",
    "# print the text of the first page\n",
    "print(reader.pages[5].extract_text())"
   ],
   "metadata": {
    "collapsed": false
   }
  },
  {
   "cell_type": "code",
   "execution_count": 115,
   "outputs": [
    {
     "name": "stdout",
     "output_type": "stream",
     "text": [
      "Found 24 sections.\n",
      "[(['Computer vision'], 'Computer vision tasks include methods for acquiring, processing, analyzing and understanding digital images, and extraction of high-dimensional data from the real world in order to produce numerical or symbolic information, e.g. in the forms of decisions. Understanding in this context means the transformation of visual images (the input of the retina) into descriptions of the world that make sense to thought processes and can elicit appropriate action. This image understanding can be seen as the disentangling of symbolic information from image data using models constructed with the aid of geometry, physics, statistics, and learning theory.\\nThe scientific discipline of computer vision is concerned with the theory behind artificial systems that extract information from images. The image data can take many forms, such as video sequences, views from multiple cameras, multi-dimensional data from a 3D scanner, or medical scanning devices. The technological discipline of computer vision seeks to apply its theories and models to the construction of computer vision systems.\\nSub-domains of computer vision include scene reconstruction, object detection, event detection, video tracking, object recognition, 3D pose estimation, learning, indexing, motion estimation, visual servoing, 3D scene modeling, and image restoration. \\nAdopting computer vision technology might be painstaking for organizations as there is no single point solution for it. There are very few companies that provide a unified and distributed platform or an Operating System where computer vision applications can be easily deployed and managed. \\n\\n\\n'), (['Computer vision', '== Definition =='], '\\nComputer vision is an interdisciplinary field that deals with how computers can be made to gain high-level understanding from digital images or videos. From the perspective of engineering, it seeks to automate tasks that the human visual system can do. \"Computer vision is concerned with the automatic extraction, analysis and understanding of useful information from a single image or a sequence of images. It involves the development of a theoretical and algorithmic basis to achieve automatic visual understanding.\" As a scientific discipline, computer vision is concerned with the theory behind artificial systems that extract information from images. The image data can take many forms, such as video sequences, views from multiple cameras, or multi-dimensional data from a medical scanner. As a technological discipline, computer vision seeks to apply its theories and models for the construction of computer vision systems.\\n\\n\\n'), (['Computer vision', '== History =='], '\\nIn the late 1960s, computer vision began at universities that were pioneering artificial intelligence. It was meant to mimic the human visual system, as a stepping stone to endowing robots with intelligent behavior. In 1966, it was believed that this could be achieved through a summer project, by attaching a camera to a computer and having it \"describe what it saw\".What distinguished computer vision from the prevalent field of digital image processing at that time was a desire to extract three-dimensional structure from images with the goal of achieving full scene understanding. Studies in the 1970s formed the early foundations for many of the computer vision algorithms that exist today, including extraction of edges from images, labeling of lines, non-polyhedral and polyhedral modeling, representation of objects as interconnections of smaller structures, optical flow, and motion estimation.The next decade saw studies based on more rigorous mathematical analysis and quantitative aspects of computer vision. These include the concept of scale-space, the inference of shape from various cues such as shading, texture and focus, and contour models known as snakes. Researchers also realized that many of these mathematical concepts could be treated within the same optimization framework as regularization and Markov random fields.\\nBy the 1990s, some of the previous research topics became more active than others. Research in projective 3-D reconstructions led to better understanding of camera calibration. With the advent of optimization methods for camera calibration, it was realized that a lot of the ideas were already explored in bundle adjustment theory from the field of photogrammetry. This led to methods for sparse 3-D reconstructions of scenes from multiple images. Progress was made on the dense stereo correspondence problem and further multi-view stereo techniques. At the same time, variations of graph cut were used to solve image segmentation. This decade also marked the first time statistical learning techniques were used in practice to recognize faces in images (see Eigenface). Toward the end of the 1990s, a significant change came about with the increased interaction between the fields of computer graphics and computer vision. This included image-based rendering, image morphing, view interpolation, panoramic image stitching and early light-field rendering.Recent work has seen the resurgence of feature-based methods, used in conjunction with machine learning techniques and complex optimization frameworks. \\nThe advancement of Deep Learning techniques has brought further life to the field of computer vision. The accuracy of deep learning algorithms on several benchmark computer vision data sets for tasks ranging from classification, segmentation and optical flow has surpassed prior methods.\\n\\n\\n'), (['Computer vision', '== Related fields =='], '\\n\\n\\n'), (['Computer vision', '== Related fields ==', '=== Solid-state physics ==='], '\\nSolid-state physics is another field that is closely related to computer vision. Most computer vision systems rely on image sensors, which detect electromagnetic radiation, which is typically in the form of either visible or infrared light. The sensors are designed using quantum physics. The process by which light interacts with surfaces is explained using physics. Physics explains the behavior of optics which are a core part of most imaging systems. Sophisticated image sensors even require quantum mechanics to provide a complete understanding of the image formation process. Also, various measurement problems in physics can be addressed using computer vision, for example, motion in fluids.\\n\\n\\n'), (['Computer vision', '== Related fields ==', '=== Neurobiology ==='], '\\nNeurobiology has greatly influenced the development of computer vision algorithms. Over the last century, there has been an extensive study of eyes, neurons, and brain structures devoted to the processing visual stimuli in both humans and various animals. This has led to a coarse, yet convoluted, description of how natural vision systems operate in order to solve certain vision-related tasks. These results have led to a sub-field within computer vision where artificial systems are designed to mimic the processing and behavior of biological systems at different levels of complexity. Also, some of the learning-based methods developed within computer vision (e.g. neural net and deep learning based image and feature analysis and classification) have their background in neurobiology.  The Neocognitron, a neural network developed in the 1970s by Kunihiko Fukushima, is an early example of computer vision taking direct inspiration from neurobiology, specifically the primary visual cortex.\\nSome strands of computer vision research are closely related to the study of biological vision—indeed, just as many strands of AI research are closely tied with research into human intelligence, and the use of stored knowledge to interpret, integrate and utilize visual information. The field of biological vision studies and models the physiological processes behind visual perception in humans and other animals. Computer vision, on the other hand, develops and describes the algorithms implemented in software and hardware behind artificial vision systems. An interdisciplinary exchange between biological and computer vision has proven fruitful for both fields.\\n\\n\\n'), (['Computer vision', '== Related fields ==', '=== Signal processing ==='], '\\nYet another field related to computer vision is signal processing. Many methods for processing of one-variable signals, typically temporal signals, can be extended in a natural way to the processing of two-variable signals or multi-variable signals in computer vision. However, because of the specific nature of images, there are many methods developed within computer vision that have no counterpart in the processing of one-variable signals. Together with the multi-dimensionality of the signal, this defines a subfield in signal processing as a part of computer vision.\\n\\n\\n'), (['Computer vision', '== Related fields ==', '=== Robotic navigation ==='], '\\nRobot navigation sometimes deals with autonomous path planning or deliberation for robotic systems to navigate through an environment. A detailed understanding of these environments is required to navigate through them. Information about the environment could be provided by a computer vision system, acting as a vision sensor and providing high-level information about the environment and the robot.\\n\\n\\n'), (['Computer vision', '== Related fields ==', '=== Other fields ==='], '\\nBesides the above-mentioned views on computer vision, many of the related research topics can also be studied from a purely mathematical point of view. For example, many methods in computer vision are based on statistics, optimization or geometry. Finally, a significant part of the field is devoted to the implementation aspect of computer vision; how existing methods can be realized in various combinations of software and hardware, or how these methods can be modified in order to gain processing speed without losing too much performance. Computer vision is also used in fashion eCommerce, inventory management, patent search, furniture, and the beauty industry.\\n\\n\\n'), (['Computer vision', '== Related fields ==', '=== Distinctions ==='], '\\nThe fields most closely related to computer vision are image processing, image analysis and machine vision. There is a significant overlap in the range of techniques and applications that these cover. This implies that the basic techniques that are used and developed in these fields are similar, something which can be interpreted as there is only one field with different names. On the other hand, it appears to be necessary for research groups, scientific journals, conferences, and companies to present or market themselves as belonging specifically to one of these fields and, hence, various characterizations which distinguish each of the fields from the others have been presented. In image processing, the input is an image and the output is an image as well, whereas in computer vision, an image or a video is taken as an input and the output could be an enhanced image, an understanding of the content of an image or even behavior of a computer system based on such understanding.\\nComputer graphics produces image data from 3D models, and computer vision often produces 3D models from image data. There is also a trend towards a combination of the two disciplines, e.g., as explored in augmented reality.\\nThe following characterizations appear relevant but should not be taken as universally accepted:\\n\\nImage processing and image analysis tend to focus on 2D images, how to transform one image to another, e.g., by pixel-wise operations such as contrast enhancement, local operations such as edge extraction or noise removal, or geometrical transformations such as rotating the image. This characterization implies that image processing/analysis neither requires assumptions nor produces interpretations about the image content.\\nComputer vision includes 3D analysis from 2D images. This analyzes the 3D scene projected onto one or several images, e.g., how to reconstruct structure or other information about the 3D scene from one or several images. Computer vision often relies on more or less complex assumptions about the scene depicted in an image.\\nMachine vision is the process of applying a range of technologies and methods to provide imaging-based automatic inspection, process control, and robot guidance in industrial applications. Machine vision tends to focus on applications, mainly in manufacturing, e.g., vision-based robots and systems for vision-based inspection, measurement, or picking (such as bin picking). This implies that image sensor technologies and control theory often are integrated with the processing of image data to control a robot and that real-time processing is emphasized by means of efficient implementations in hardware and software. It also implies that external conditions such as lighting can be and are often more controlled in machine vision than they are in general computer vision, which can enable the use of different algorithms.\\nThere is also a field called imaging which primarily focuses on the process of producing images, but sometimes also deals with the processing and analysis of images. For example, medical imaging includes substantial work on the analysis of image data in medical applications.\\nFinally, pattern recognition is a field that uses various methods to extract information from signals in general, mainly based on statistical approaches and artificial neural networks. A significant part of this field is devoted to applying these methods to image data.Photogrammetry also overlaps with computer vision, e.g., stereophotogrammetry vs. computer stereo vision.\\n\\n\\n'), (['Computer vision', '== Applications =='], '\\nApplications range from tasks such as industrial machine vision systems which, say, inspect bottles speeding by on a production line, to research into artificial intelligence and computers or robots that can comprehend the world around them. The computer vision and machine vision fields have significant overlap. Computer vision covers the core technology of automated image analysis which is used in many fields. Machine vision usually refers to a process of combining automated image analysis with other methods and technologies to provide automated inspection and robot guidance in industrial applications. In many computer-vision applications, computers are pre-programmed to solve a particular task, but methods based on learning are now becoming increasingly common. Examples of applications of computer vision include systems for:\\n\\nAutomatic inspection, e.g., in manufacturing applications;\\nAssisting humans in identification tasks, e.g., a species identification system;\\nControlling processes, e.g., an industrial robot;\\nDetecting events, e.g., for visual surveillance or people counting, e.g., in the restaurant industry;\\nInteraction, e.g., as the input to a device for computer-human interaction;\\nModeling objects or environments, e.g., medical image analysis or topographical modeling;\\nNavigation, e.g., by an autonomous vehicle or mobile robot;\\nOrganizing information, e.g., for indexing databases of images and image sequences.\\nTracking surfaces or planes in 3D coordinates for allowing Augmented Reality experiences.\\n\\n\\n'), (['Computer vision', '== Applications ==', '=== Medicine ==='], '\\n\\nOne of the most prominent application fields is medical computer vision, or medical image processing, characterized by the extraction of information from image data to diagnose a patient. An example of this is the detection of tumours, arteriosclerosis or other malign changes, and a variety of dental pathologies; measurements of organ dimensions, blood flow, etc. are another example. It also supports medical research by providing new information: e.g., about the structure of the brain, or the quality of medical treatments. Applications of computer vision in the medical area also include enhancement of images interpreted by humans—ultrasonic images or X-ray images, for example—to reduce the influence of noise.\\n\\n\\n'), (['Computer vision', '== Applications ==', '=== Machine vision ==='], '\\nA second application area in computer vision is in industry, sometimes called machine vision, where information is extracted for the purpose of supporting a production process. One example is quality control where details or final products are being automatically inspected in order to find defects. One of the most prevalent fields for such inspection is the Wafer industry in which every single Wafer is being measured and inspected for inaccuracies or defects to prevent a computer chip from coming to market in an unusable manner. Another example is a measurement of the position and orientation of details to be picked up by a robot arm. Machine vision is also heavily used in the agricultural processes to remove undesirable food stuff from bulk material, a process called optical sorting.\\n\\n\\n'), (['Computer vision', '== Applications ==', '=== Military ==='], '\\nMilitary applications are probably one of the largest areas of computer vision. The obvious examples are the detection of enemy soldiers or vehicles and missile guidance. More advanced systems for missile guidance send the missile to an area rather than a specific target, and target selection is made when the missile reaches the area based on locally acquired image data. Modern military concepts, such as \"battlefield awareness\", imply that various sensors, including image sensors, provide a rich set of information about a combat scene that can be used to support strategic decisions. In this case, automatic processing of the data is used to reduce complexity and to fuse information from multiple sensors to increase reliability.\\n\\n\\n'), (['Computer vision', '== Applications ==', '=== Autonomous vehicles ==='], \"\\n\\nOne of the newer application areas is autonomous vehicles, which include submersibles, land-based vehicles (small robots with wheels, cars, or trucks), aerial vehicles, and unmanned aerial vehicles (UAV). The level of autonomy ranges from fully autonomous (unmanned) vehicles to vehicles where computer-vision-based systems support a driver or a pilot in various situations. Fully autonomous vehicles typically use computer vision for navigation, e.g., for knowing where they are or mapping their environment (SLAM), for detecting obstacles and/or automatically ensuring navigational safety. It can also be used for detecting certain task-specific events, e.g., a UAV looking for forest fires. Examples of supporting systems are obstacle warning systems in cars and systems for autonomous landing of aircraft. Several car manufacturers have demonstrated systems for autonomous driving of cars, but this technology has still not reached a level where it can be put on the market. There are ample examples of military autonomous vehicles ranging from advanced missiles to UAVs for recon missions or missile guidance. Space exploration is already being made with autonomous vehicles using computer vision, e.g., NASA's Curiosity and CNSA's Yutu-2 rover.\\n\\n\\n\"), (['Computer vision', '== Applications ==', '=== Tactile feedback ==='], '\\n\\nMaterials such as rubber and silicon are being used to create sensors that allow for applications such as detecting micro undulations and calibrating robotic hands. Rubber can be used in order to create a mold that can be placed over a finger, inside of this mold would be multiple strain gauges. The finger mold and sensors could then be placed on top of a small sheet of rubber containing an array of rubber pins. A user can then wear the finger mold and trace a surface. A computer can then read the data from the strain gauges and measure if one or more of the pins is being pushed upward. If a pin is being pushed upward then the computer can recognize this as an imperfection in the surface. This sort of technology is useful in order to receive accurate data on imperfections on a very large surface. Another variation of this finger mold sensor are sensors that contain a camera suspended in silicon. The silicon forms a dome around the outside of the camera and embedded in the silicon are point markers that are equally spaced. These cameras can then be placed on devices such as robotic hands in order to allow the computer to receive highly accurate tactile data.Other application areas include:\\n\\nSupport of visual effects creation for cinema and broadcast, e.g., camera tracking (match moving).\\nSurveillance.\\nDriver drowsiness detection\\nTracking and counting organisms in the biological sciences\\n\\n\\n'), (['Computer vision', '== Typical tasks =='], '\\nEach of the application areas described above employ a range of computer vision tasks; more or less well-defined measurement problems or processing problems, which can be solved using a variety of methods. Some examples of typical computer vision tasks are presented below.\\nComputer vision tasks include methods for acquiring, processing, analyzing and understanding digital images, and extraction of high-dimensional data from the real world in order to produce numerical or symbolic information, e.g., in the forms of decisions. Understanding in this context means the transformation of visual images (the input of the retina) into descriptions of the world that can interface with other thought processes and elicit appropriate action. This image understanding can be seen as the disentangling of symbolic information from image data using models constructed with the aid of geometry, physics, statistics, and learning theory.\\n\\n\\n'), (['Computer vision', '== Typical tasks ==', '=== Recognition ==='], \"\\nThe classical problem in computer vision, image processing, and machine vision is that of determining whether or not the image data contains some specific object, feature, or activity. Different varieties of recognition problem are described in the literature.\\nObject recognition (also called object classification) – one or several pre-specified or learned objects or object classes can be recognized, usually together with their 2D positions in the image or 3D poses in the scene. Blippar, Google Goggles, and LikeThat provide stand-alone programs that illustrate this functionality.\\nIdentification – an individual instance of an object is recognized. Examples include identification of a specific person's face or fingerprint, identification of handwritten digits, or identification of a specific vehicle.\\nDetection – the image data are scanned for a specific condition. Examples include the detection of possible abnormal cells or tissues in medical images or the detection of a vehicle in an automatic road toll system. Detection based on relatively simple and fast computations is sometimes used for finding smaller regions of interesting image data which can be further analyzed by more computationally demanding techniques to produce a correct interpretation.Currently, the best algorithms for such tasks are based on convolutional neural networks. An illustration of their capabilities is given by the ImageNet Large Scale Visual Recognition Challenge; this is a benchmark in object classification and detection, with millions of images and 1000 object classes used in the competition. Performance of convolutional neural networks on the ImageNet tests is now close to that of humans. The best algorithms still struggle with objects that are small or thin, such as a small ant on a stem of a flower or a person holding a quill in their hand. They also have trouble with images that have been distorted with filters (an increasingly common phenomenon with modern digital cameras). By contrast, those kinds of images rarely trouble humans. Humans, however, tend to have trouble with other issues. For example, they are not good at classifying objects into fine-grained classes, such as the particular breed of dog or species of bird, whereas convolutional neural networks handle this with ease.Several specialized tasks based on recognition exist, such as:\\n\\nContent-based image retrieval – finding all images in a larger set of images which have a specific content. The content can be specified in different ways, for example in terms of similarity relative to a target image (give me all images similar to image X) by utilizing reverse image search techniques, or in terms of high-level search criteria given as text input (give me all images which contain many houses, are taken during winter and have no cars in them).\\nPose estimation – estimating the position or orientation of a specific object relative to the camera. An example application for this technique would be assisting a robot arm in retrieving objects from a conveyor belt in an assembly line situation or picking parts from a bin.\\nOptical character recognition (OCR) – identifying characters in images of printed or handwritten text, usually with a view to encoding the text in a format more amenable to editing or indexing (e.g. ASCII).\\n2D code reading – reading of 2D codes such as data matrix and QR codes.\\nFacial recognition –  a technology that enables the matching of faces in digital images or video frames to a face database, which is now widely used for mobile phone facelock, smart door locking, etc.\\n Shape Recognition Technology (SRT) in people counter systems differentiating human beings (head and shoulder patterns) from objects\\n\\n\\n\"), (['Computer vision', '== Typical tasks ==', '=== Motion analysis ==='], '\\nSeveral tasks relate to motion estimation where an image sequence is processed to produce an estimate of the velocity either at each points in the image or in the 3D scene or even of the camera that produces the images. Examples of such tasks are:\\n\\nEgomotion – determining the 3D rigid motion (rotation and translation) of the camera from an image sequence produced by the camera.\\nTracking – following the movements of a (usually) smaller set of interest points or objects (e.g., vehicles, objects, humans or other organisms) in the image sequence. This has vast industry applications as most of high-running machinery can be monitored in this way.\\nOptical flow – to determine, for each point in the image, how that point is moving relative to the image plane, i.e., its apparent motion. This motion is a result both of how the corresponding 3D point is moving in the scene and how the camera is moving relative to the scene.\\n\\n\\n'), (['Computer vision', '== Typical tasks ==', '=== Scene reconstruction ==='], '\\nGiven one or (typically) more images of a scene, or a video, scene reconstruction aims at computing a 3D model of the scene. In the simplest case, the model can be a set of 3D points. More sophisticated methods produce a complete 3D surface model. The advent of 3D imaging not requiring motion or scanning, and related processing algorithms is enabling rapid advances in this field. Grid-based 3D sensing can be used to acquire 3D images from multiple angles. Algorithms are now available to stitch multiple 3D images together into point clouds and 3D models.\\n\\n\\n'), (['Computer vision', '== Typical tasks ==', '=== Image restoration ==='], '\\nImage restoration comes into picture when the original image is degraded or damaged due to some external factors like lens wrong positioning , transmission interference , low lighting or motion blurs and etc.. which is referred to as noise. When the images are degraded or damaged the information to be extracted from that also gets damaged. Therefore we need to recover or restore the image as it was intended to be. The aim of image restoration is the removal of noise (sensor noise, motion blur, etc.) from images. The simplest possible approach for noise removal is various types of filters such as low-pass filters or median filters. More sophisticated methods assume a model of how the local image structures look, to distinguish them from noise. By first analyzing the image data in terms of the local image structures, such as lines or edges, and then controlling the filtering based on local information from the analysis step, a better level of noise removal is usually obtained compared to the simpler approaches.\\nAn example in this field is inpainting.\\n\\n\\n'), (['Computer vision', '== System methods =='], '\\nThe organization of a computer vision system is highly application-dependent. Some systems are stand-alone applications that solve a specific measurement or detection problem, while others constitute a sub-system of a larger design which, for example, also contains sub-systems for control of mechanical actuators, planning, information databases, man-machine interfaces, etc. The specific implementation of a computer vision system also depends on whether its functionality is pre-specified or if some part of it can be learned or modified during operation. Many functions are unique to the application. There are, however, typical functions that are found in many computer vision systems.\\n\\nImage acquisition – A digital image is produced by one or several image sensors, which, besides various types of light-sensitive cameras, include range sensors, tomography devices, radar, ultra-sonic cameras, etc. Depending on the type of sensor, the resulting image data is an ordinary 2D image, a 3D volume, or an image sequence. The pixel values typically correspond to light intensity in one or several spectral bands (gray images or colour images), but can also be related to various physical measures, such as depth, absorption or reflectance of sonic or electromagnetic waves, or nuclear magnetic resonance.\\nPre-processing – Before a computer vision method can be applied to image data in order to extract some specific piece of information, it is usually necessary to process the data in order to assure that it satisfies certain assumptions implied by the method. Examples are:\\nRe-sampling to assure that the image coordinate system is correct.\\nNoise reduction to assure that sensor noise does not introduce false information.\\nContrast enhancement to assure that relevant information can be detected.\\nScale space representation to enhance image structures at locally appropriate scales.\\nFeature extraction – Image features at various levels of complexity are extracted from the image data. Typical examples of such features are:\\nLines, edges and ridges.\\nLocalized interest points such as corners, blobs or points.More complex features may be related to texture, shape or motion.Detection/segmentation – At some point in the processing a decision is made about which image points or regions of the image are relevant for further processing. Examples are:\\nSelection of a specific set of interest points.\\nSegmentation of one or multiple image regions that contain a specific object of interest.\\nSegmentation of image into nested scene architecture comprising foreground, object groups, single objects or salient object parts (also referred to as spatial-taxon scene hierarchy), while the visual salience is often implemented as spatial and temporal attention.\\nSegmentation or co-segmentation of one or multiple videos into a series of per-frame foreground masks, while maintaining its temporal semantic continuity.\\nHigh-level processing – At this step the input is typically a small set of data, for example a set of points or an image region which is assumed to contain a specific object. The remaining processing deals with, for example:\\nVerification that the data satisfy model-based and application-specific assumptions.\\nEstimation of application-specific parameters, such as object pose or object size.\\nImage recognition – classifying a detected object into different categories.\\nImage registration – comparing and combining two different views of the same object.\\nDecision making Making the final decision required for the application, for example:\\nPass/fail on automatic inspection applications.\\nMatch/no-match in recognition applications.\\nFlag for further human review in medical, military, security and recognition applications.\\n\\n\\n'), (['Computer vision', '== System methods ==', '=== Image-understanding systems ==='], '\\nImage-understanding systems (IUS) include three levels of abstraction as follows: low level includes image primitives such as edges, texture elements, or regions; intermediate level includes boundaries, surfaces and volumes; and high level includes objects, scenes, or events. Many of these requirements are entirely topics for further research.\\nThe representational requirements in the designing of IUS for these levels are: representation of prototypical concepts, concept organization, spatial knowledge, temporal knowledge, scaling, and description by comparison and differentiation.\\nWhile inference refers to the process of deriving new, not explicitly represented facts from currently known facts, control refers to the process that selects which of the many inference, search, and matching techniques should be applied at a particular stage of processing. Inference and control requirements for IUS are: search and hypothesis activation, matching and hypothesis testing, generation and use of expectations, change and focus of attention, certainty and strength of belief, inference and goal satisfaction.\\n\\n\\n'), (['Computer vision', '== Hardware =='], '\\n\\nThere are many kinds of computer vision systems; however, all of them contain these basic elements: a power source, at least one image acquisition device (camera, ccd, etc.), a processor, and control and communication cables or some kind of wireless interconnection mechanism. In addition, a practical vision system contains software, as well as a display in order to monitor the system. Vision systems for inner spaces, as most industrial ones, contain an illumination system and may be placed in a controlled environment. Furthermore, a completed system includes many accessories such as camera supports, cables and connectors.\\nMost computer vision systems use visible-light cameras passively viewing a scene at frame rates of at most 60 frames per second (usually far slower).\\nA few computer vision systems use image-acquisition hardware with active illumination or something other than visible light or both, such as structured-light 3D scanners, thermographic cameras, hyperspectral imagers, radar imaging, lidar scanners, magnetic resonance images, side-scan sonar, synthetic aperture sonar, etc. Such hardware captures \"images\" that are then processed often using the same computer vision algorithms used to process visible-light images.\\nWhile traditional broadcast and consumer video systems operate at a rate of 30 frames per second, advances in digital signal processing and consumer graphics hardware has made high-speed image acquisition, processing, and display possible for real-time systems on the order of hundreds to thousands of frames per second. For applications in robotics, fast, real-time video systems are critically important and often can simplify the processing needed for certain algorithms. When combined with a high-speed projector, fast image acquisition allows 3D measurement and feature tracking to be realized.Egocentric vision systems are composed of a wearable camera that automatically take pictures from a first-person perspective.\\nAs of 2016, vision processing units are emerging as a new class of processor, to complement CPUs and graphics processing units (GPUs) in this role.\\n\\n\\n')]\n"
     ]
    }
   ],
   "source": [
    "SECTIONS_TO_IGNORE = [\n",
    "    \"See also\",\n",
    "    \"References\",\n",
    "    \"External links\",\n",
    "    \"Further reading\",\n",
    "    \"Footnotes\",\n",
    "    \"Bibliography\",\n",
    "    \"Sources\",\n",
    "    \"Citations\",\n",
    "    \"Literature\",\n",
    "    \"Footnotes\",\n",
    "    \"Notes and references\",\n",
    "    \"Photo gallery\",\n",
    "    \"Works cited\",\n",
    "    \"Photos\",\n",
    "    \"Gallery\",\n",
    "    \"Notes\",\n",
    "    \"References and sources\",\n",
    "    \"References and notes\",\n",
    "]\n",
    "\n",
    "WIKI_PAGE = \"Computer vision\"\n",
    "\n",
    "def all_subsections_from_section(\n",
    "    section: mwparserfromhell.wikicode.Wikicode,\n",
    "    parent_titles: list[str],\n",
    "    sections_to_ignore: set[str],\n",
    ") -> list[tuple[list[str], str]]:\n",
    "    \"\"\"\n",
    "    From a Wikipedia section, return a flattened list of all nested subsections.\n",
    "    Each subsection is a tuple, where:\n",
    "        - the first element is a list of parent subtitles, starting with the page title\n",
    "        - the second element is the text of the subsection (but not any children)\n",
    "    \"\"\"\n",
    "    headings = [str(h) for h in section.filter_headings()]\n",
    "    title = headings[0]\n",
    "    if title.strip(\"=\" + \" \") in sections_to_ignore:\n",
    "        # ^wiki headings are wrapped like \"== Heading ==\"\n",
    "        return []\n",
    "    titles = parent_titles + [title]\n",
    "    full_text = str(section)\n",
    "    section_text = full_text.split(title)[1]\n",
    "    if len(headings) == 1:\n",
    "        return [(titles, section_text)]\n",
    "    else:\n",
    "        first_subtitle = headings[1]\n",
    "        section_text = section_text.split(first_subtitle)[0]\n",
    "        results = [(titles, section_text)]\n",
    "        for subsection in section.get_sections(levels=[len(titles) + 1]):\n",
    "            results.extend(all_subsections_from_section(subsection, titles, sections_to_ignore))\n",
    "        return results\n",
    "\n",
    "def all_subsections_from_title(\n",
    "    title: str = WIKI_PAGE,\n",
    "    sections_to_ignore: set[str] = SECTIONS_TO_IGNORE,\n",
    ") -> list[tuple[list[str], str]]:\n",
    "    \"\"\"From a Wikipedia page title, return a flattened list of all nested subsections.\n",
    "    Each subsection is a tuple, where:\n",
    "        - the first element is a list of parent subtitles, starting with the page title\n",
    "        - the second element is the text of the subsection (but not any children)\n",
    "    \"\"\"\n",
    "    site = wikipedia.page(title, auto_suggest=False)\n",
    "    text = site.content\n",
    "    parsed_text = mwparserfromhell.parse(text)\n",
    "    headings = [str(h) for h in parsed_text.filter_headings()]\n",
    "    if headings:\n",
    "        summary_text = str(parsed_text).split(headings[0])[0]\n",
    "    else:\n",
    "        summary_text = str(parsed_text)\n",
    "    results = [([title], summary_text)]\n",
    "    for subsection in parsed_text.get_sections(levels=[2]):\n",
    "        results.extend(all_subsections_from_section(subsection, [title], sections_to_ignore))\n",
    "    return results\n",
    "\n",
    "# split pages into sections\n",
    "# may take ~1 minute per 100 articles\n",
    "wikipedia_sections = []\n",
    "wikipedia_sections.extend(all_subsections_from_title(WIKI_PAGE))\n",
    "print(f\"Found {len(wikipedia_sections)} sections.\")\n",
    "print(wikipedia_sections)"
   ],
   "metadata": {
    "collapsed": false
   }
  },
  {
   "cell_type": "code",
   "execution_count": 116,
   "outputs": [
    {
     "name": "stdout",
     "output_type": "stream",
     "text": [
      "Filtered out 1 sections, leaving 23 sections.\n"
     ]
    }
   ],
   "source": [
    "# clean text\n",
    "def clean_section(section: tuple[list[str], str]) -> tuple[list[str], str]:\n",
    "    \"\"\"\n",
    "    Return a cleaned up section with:\n",
    "        - <ref>xyz</ref> patterns removed\n",
    "        - leading/trailing whitespace removed\n",
    "    \"\"\"\n",
    "    titles, text = section\n",
    "    text = re.sub(r\"<ref.*?</ref>\", \"\", text)\n",
    "    text = text.strip()\n",
    "    return (titles, text)\n",
    "\n",
    "\n",
    "wikipedia_sections = [clean_section(ws) for ws in wikipedia_sections]\n",
    "\n",
    "# filter out short/blank sections\n",
    "def keep_section(section: tuple[list[str], str]) -> bool:\n",
    "    \"\"\"Return True if the section should be kept, False otherwise.\"\"\"\n",
    "    titles, text = section\n",
    "    if len(text) < 16:\n",
    "        return False\n",
    "    else:\n",
    "        return True\n",
    "\n",
    "\n",
    "original_num_sections = len(wikipedia_sections)\n",
    "wikipedia_sections = [ws for ws in wikipedia_sections if keep_section(ws)]\n",
    "print(f\"Filtered out {original_num_sections-len(wikipedia_sections)} sections, leaving {len(wikipedia_sections)} sections.\")"
   ],
   "metadata": {
    "collapsed": false
   }
  },
  {
   "cell_type": "code",
   "execution_count": 117,
   "outputs": [
    {
     "name": "stdout",
     "output_type": "stream",
     "text": [
      "['Computer vision']\n"
     ]
    },
    {
     "data": {
      "text/plain": "'Computer vision tasks include methods for acquiring, processing, analyzing an...'"
     },
     "metadata": {},
     "output_type": "display_data"
    },
    {
     "name": "stdout",
     "output_type": "stream",
     "text": [
      "\n",
      "['Computer vision', '== Definition ==']\n"
     ]
    },
    {
     "data": {
      "text/plain": "'Computer vision is an interdisciplinary field that deals with how computers c...'"
     },
     "metadata": {},
     "output_type": "display_data"
    },
    {
     "name": "stdout",
     "output_type": "stream",
     "text": [
      "\n",
      "['Computer vision', '== History ==']\n"
     ]
    },
    {
     "data": {
      "text/plain": "'In the late 1960s, computer vision began at universities that were pioneering...'"
     },
     "metadata": {},
     "output_type": "display_data"
    },
    {
     "name": "stdout",
     "output_type": "stream",
     "text": [
      "\n",
      "['Computer vision', '== Related fields ==', '=== Solid-state physics ===']\n"
     ]
    },
    {
     "data": {
      "text/plain": "'Solid-state physics is another field that is closely related to computer visi...'"
     },
     "metadata": {},
     "output_type": "display_data"
    },
    {
     "name": "stdout",
     "output_type": "stream",
     "text": [
      "\n",
      "['Computer vision', '== Related fields ==', '=== Neurobiology ===']\n"
     ]
    },
    {
     "data": {
      "text/plain": "'Neurobiology has greatly influenced the development of computer vision algori...'"
     },
     "metadata": {},
     "output_type": "display_data"
    },
    {
     "name": "stdout",
     "output_type": "stream",
     "text": [
      "\n"
     ]
    }
   ],
   "source": [
    "# print example data\n",
    "for ws in wikipedia_sections[:5]:\n",
    "    print(ws[0])\n",
    "    display(ws[1][:77] + \"...\")\n",
    "    print()"
   ],
   "metadata": {
    "collapsed": false
   }
  },
  {
   "cell_type": "code",
   "execution_count": 4,
   "outputs": [],
   "source": [
    "# Used throughout\n",
    "def num_tokens(\n",
    "        text: str,\n",
    "        encoding: tiktoken.encoding_for_model = tiktoken.encoding_for_model(GPT_MODEL)\n",
    ") -> int:\n",
    "    \"\"\"Returns the number of tokens in a string.\"\"\"\n",
    "    return len(encoding.encode(text))"
   ],
   "metadata": {
    "collapsed": false
   }
  },
  {
   "cell_type": "code",
   "execution_count": 118,
   "outputs": [
    {
     "name": "stdout",
     "output_type": "stream",
     "text": [
      "23 Wikipedia sections split into 23 strings.\n"
     ]
    }
   ],
   "source": [
    "# recursively split long sections into smaller sections.\n",
    "def halved_by_delimiter(string: str, delimiter: str = \"\\n\") -> list[str, str]:\n",
    "    \"\"\"Split a string in two, on a delimiter, trying to balance tokens on each side.\"\"\"\n",
    "    chunks = string.split(delimiter)\n",
    "    if len(chunks) == 1:\n",
    "        return [string, \"\"]  # no delimiter found\n",
    "    elif len(chunks) == 2:\n",
    "        return chunks  # no need to search for halfway point\n",
    "    else:\n",
    "        total_tokens = num_tokens(string)\n",
    "        halfway = total_tokens // 2\n",
    "        best_diff = halfway\n",
    "        for i, chunk in enumerate(chunks):\n",
    "            left = delimiter.join(chunks[: i + 1])\n",
    "            left_tokens = num_tokens(left)\n",
    "            diff = abs(halfway - left_tokens)\n",
    "            if diff >= best_diff:\n",
    "                break\n",
    "            else:\n",
    "                best_diff = diff\n",
    "        left = delimiter.join(chunks[:i])\n",
    "        right = delimiter.join(chunks[i:])\n",
    "        return [left, right]\n",
    "\n",
    "\n",
    "def truncated_string(\n",
    "    string: str,\n",
    "    model: str,\n",
    "    max_tokens: int,\n",
    "    print_warning: bool = True,\n",
    ") -> str:\n",
    "    \"\"\"Truncate a string to a maximum number of tokens.\"\"\"\n",
    "    encoding = tiktoken.encoding_for_model(model)\n",
    "    encoded_string = encoding.encode(string)\n",
    "    truncated_string = encoding.decode(encoded_string[:max_tokens])\n",
    "    if print_warning and len(encoded_string) > max_tokens:\n",
    "        print(f\"Warning: Truncated string from {len(encoded_string)} tokens to {max_tokens} tokens.\")\n",
    "    return truncated_string\n",
    "\n",
    "\n",
    "def split_strings_from_subsection(\n",
    "    subsection: tuple[list[str], str],\n",
    "    max_tokens: int = 1000,\n",
    "    model: str = GPT_MODEL,\n",
    "    max_recursion: int = 5,\n",
    ") -> list[str]:\n",
    "    \"\"\"\n",
    "    Split a subsection into a list of subsections, each with no more than max_tokens.\n",
    "    Each subsection is a tuple of parent titles [H1, H2, ...] and text (str).\n",
    "    \"\"\"\n",
    "    titles, text = subsection\n",
    "    string = \"\\n\\n\".join(titles + [text])\n",
    "    num_tokens_in_string = num_tokens(string)\n",
    "    # if length is fine, return string\n",
    "    if num_tokens_in_string <= max_tokens:\n",
    "        return [string]\n",
    "    # if recursion hasn't found a split after X iterations, just truncate\n",
    "    elif max_recursion == 0:\n",
    "        return [truncated_string(string, model=model, max_tokens=max_tokens)]\n",
    "    # otherwise, split in half and recurse\n",
    "    else:\n",
    "        titles, text = subsection\n",
    "        for delimiter in [\"\\n\\n\", \"\\n\", \". \"]:\n",
    "            left, right = halved_by_delimiter(text, delimiter=delimiter)\n",
    "            if left == \"\" or right == \"\":\n",
    "                # if either half is empty, retry with a more fine-grained delimiter\n",
    "                continue\n",
    "            else:\n",
    "                # recurse on each half\n",
    "                results = []\n",
    "                for half in [left, right]:\n",
    "                    half_subsection = (titles, half)\n",
    "                    half_strings = split_strings_from_subsection(\n",
    "                        half_subsection,\n",
    "                        max_tokens=max_tokens,\n",
    "                        model=model,\n",
    "                        max_recursion=max_recursion - 1,\n",
    "                    )\n",
    "                    results.extend(half_strings)\n",
    "                return results\n",
    "    # otherwise no split was found, so just truncate (should be very rare)\n",
    "    return [truncated_string(string, model=model, max_tokens=max_tokens)]\n",
    "\n",
    "# split sections into chunks\n",
    "MAX_TOKENS = 1600\n",
    "wikipedia_strings = []\n",
    "for section in wikipedia_sections:\n",
    "    wikipedia_strings.extend(split_strings_from_subsection(section, max_tokens=MAX_TOKENS))\n",
    "\n",
    "print(f\"{len(wikipedia_sections)} Wikipedia sections split into {len(wikipedia_strings)} strings.\")"
   ],
   "metadata": {
    "collapsed": false
   }
  },
  {
   "cell_type": "code",
   "execution_count": 119,
   "outputs": [
    {
     "name": "stdout",
     "output_type": "stream",
     "text": [
      "Computer vision\n",
      "\n",
      "== Definition ==\n",
      "\n",
      "Computer vision is an interdisciplinary field that deals with how computers can be made to gain high-level understanding from digital images or videos. From the perspective of engineering, it seeks to automate tasks that the human visual system can do. \"Computer vision is concerned with the automatic extraction, analysis and understanding of useful information from a single image or a sequence of images. It involves the development of a theoretical and algorithmic basis to achieve automatic visual understanding.\" As a scientific discipline, computer vision is concerned with the theory behind artificial systems that extract information from images. The image data can take many forms, such as video sequences, views from multiple cameras, or multi-dimensional data from a medical scanner. As a technological discipline, computer vision seeks to apply its theories and models for the construction of computer vision systems.\n"
     ]
    }
   ],
   "source": [
    "# print example data\n",
    "print(wikipedia_strings[1])"
   ],
   "metadata": {
    "collapsed": false
   }
  },
  {
   "cell_type": "code",
   "execution_count": 120,
   "outputs": [
    {
     "name": "stdout",
     "output_type": "stream",
     "text": [
      "Batch 0 to 999\n"
     ]
    }
   ],
   "source": [
    "# Now that we've split our library into shorter self-contained strings, we can compute embeddings for each.\n",
    "# calculate embeddings\n",
    "\n",
    "embeddings = []\n",
    "for batch_start in range(0, len(wikipedia_strings), BATCH_SIZE):\n",
    "    batch_end = batch_start + BATCH_SIZE\n",
    "    batch = wikipedia_strings[batch_start:batch_end]\n",
    "    print(f\"Batch {batch_start} to {batch_end-1}\")\n",
    "    response = openai.Embedding.create(model=EMBEDDING_MODEL, input=batch)\n",
    "    for i, be in enumerate(response[\"data\"]):\n",
    "        assert i == be[\"index\"]  # double check embeddings are in same order as input\n",
    "    batch_embeddings = [e[\"embedding\"] for e in response[\"data\"]]\n",
    "    embeddings.extend(batch_embeddings)\n",
    "\n",
    "df = pd.DataFrame({\"text\": wikipedia_strings, \"embedding\": embeddings})"
   ],
   "metadata": {
    "collapsed": false
   }
  },
  {
   "cell_type": "code",
   "execution_count": 147,
   "outputs": [
    {
     "data": {
      "text/plain": "                                                 text  \\\n0   Article section:\\n\\nComputer vision\\n\\nCompute...   \n1   Article section:\\n\\nComputer vision\\n\\n== Defi...   \n2   Article section:\\n\\nComputer vision\\n\\n== Hist...   \n3   Article section:\\n\\nComputer vision\\n\\n== Rela...   \n4   Article section:\\n\\nComputer vision\\n\\n== Rela...   \n5   Article section:\\n\\nComputer vision\\n\\n== Rela...   \n6   Article section:\\n\\nComputer vision\\n\\n== Rela...   \n7   Article section:\\n\\nComputer vision\\n\\n== Rela...   \n8   Article section:\\n\\nComputer vision\\n\\n== Rela...   \n9   Article section:\\n\\nComputer vision\\n\\n== Appl...   \n10  Article section:\\n\\nComputer vision\\n\\n== Appl...   \n11  Article section:\\n\\nComputer vision\\n\\n== Appl...   \n12  Article section:\\n\\nComputer vision\\n\\n== Appl...   \n13  Article section:\\n\\nComputer vision\\n\\n== Appl...   \n14  Article section:\\n\\nComputer vision\\n\\n== Appl...   \n15  Article section:\\n\\nComputer vision\\n\\n== Typi...   \n16  Article section:\\n\\nComputer vision\\n\\n== Typi...   \n17  Article section:\\n\\nComputer vision\\n\\n== Typi...   \n18  Article section:\\n\\nComputer vision\\n\\n== Typi...   \n19  Article section:\\n\\nComputer vision\\n\\n== Typi...   \n20  Article section:\\n\\nComputer vision\\n\\n== Syst...   \n21  Article section:\\n\\nComputer vision\\n\\n== Syst...   \n22  Article section:\\n\\nComputer vision\\n\\n== Hard...   \n\n                                            embedding  tokens     source  \n0   [-0.015160824172198772, 0.003632682841271162, ...     291  Wikipedia  \n1   [-0.006095150485634804, 0.0008000890375114977,...     167  Wikipedia  \n2   [-0.0071233357302844524, -0.003958832006901503...     516  Wikipedia  \n3   [0.0027573341503739357, -0.0004955596523359418...     136  Wikipedia  \n4   [-0.0025333885569125414, -0.005423863884061575...     308  Wikipedia  \n5   [-0.024513425305485725, 0.0005832292954437435,...     118  Wikipedia  \n6   [0.0037523966748267412, -0.018352391198277473,...      80  Wikipedia  \n7   [0.003763288725167513, -0.004463814198970795, ...     134  Wikipedia  \n8   [-0.01610185205936432, -0.0026065742131322622,...     654  Wikipedia  \n9   [-0.011650911532342434, 0.0027732541784644127,...     281  Wikipedia  \n10  [-0.004238066729158163, 0.021448472514748573, ...     148  Wikipedia  \n11  [-0.007371203042566776, -0.0018327946309000254...     155  Wikipedia  \n12  [-0.01614218018949032, -0.0005414438201114535,...     142  Wikipedia  \n13  [0.007656725589185953, -0.0032461462542414665,...     248  Wikipedia  \n14  [-0.01822366565465927, 0.02336900681257248, -0...     286  Wikipedia  \n15  [-0.010329770855605602, 0.004381134640425444, ...     171  Wikipedia  \n16  [-0.01536356471478939, 0.014625691808760166, 0...     705  Wikipedia  \n17  [-0.011803840287029743, -0.004363863728940487,...     208  Wikipedia  \n18  [-0.011135965585708618, 0.007821690291166306, ...     140  Wikipedia  \n19  [0.0003822755825240165, 0.019678881391882896, ...     213  Wikipedia  \n20  [-0.002225305885076523, 0.0222628116607666, 0....     682  Wikipedia  \n21  [0.009455375373363495, -0.003919361624866724, ...     209  Wikipedia  \n22  [-0.0022538446355611086, 0.011652261018753052,...     401  Wikipedia  ",
      "text/html": "<div>\n<style scoped>\n    .dataframe tbody tr th:only-of-type {\n        vertical-align: middle;\n    }\n\n    .dataframe tbody tr th {\n        vertical-align: top;\n    }\n\n    .dataframe thead th {\n        text-align: right;\n    }\n</style>\n<table border=\"1\" class=\"dataframe\">\n  <thead>\n    <tr style=\"text-align: right;\">\n      <th></th>\n      <th>text</th>\n      <th>embedding</th>\n      <th>tokens</th>\n      <th>source</th>\n    </tr>\n  </thead>\n  <tbody>\n    <tr>\n      <th>0</th>\n      <td>Article section:\\n\\nComputer vision\\n\\nCompute...</td>\n      <td>[-0.015160824172198772, 0.003632682841271162, ...</td>\n      <td>291</td>\n      <td>Wikipedia</td>\n    </tr>\n    <tr>\n      <th>1</th>\n      <td>Article section:\\n\\nComputer vision\\n\\n== Defi...</td>\n      <td>[-0.006095150485634804, 0.0008000890375114977,...</td>\n      <td>167</td>\n      <td>Wikipedia</td>\n    </tr>\n    <tr>\n      <th>2</th>\n      <td>Article section:\\n\\nComputer vision\\n\\n== Hist...</td>\n      <td>[-0.0071233357302844524, -0.003958832006901503...</td>\n      <td>516</td>\n      <td>Wikipedia</td>\n    </tr>\n    <tr>\n      <th>3</th>\n      <td>Article section:\\n\\nComputer vision\\n\\n== Rela...</td>\n      <td>[0.0027573341503739357, -0.0004955596523359418...</td>\n      <td>136</td>\n      <td>Wikipedia</td>\n    </tr>\n    <tr>\n      <th>4</th>\n      <td>Article section:\\n\\nComputer vision\\n\\n== Rela...</td>\n      <td>[-0.0025333885569125414, -0.005423863884061575...</td>\n      <td>308</td>\n      <td>Wikipedia</td>\n    </tr>\n    <tr>\n      <th>5</th>\n      <td>Article section:\\n\\nComputer vision\\n\\n== Rela...</td>\n      <td>[-0.024513425305485725, 0.0005832292954437435,...</td>\n      <td>118</td>\n      <td>Wikipedia</td>\n    </tr>\n    <tr>\n      <th>6</th>\n      <td>Article section:\\n\\nComputer vision\\n\\n== Rela...</td>\n      <td>[0.0037523966748267412, -0.018352391198277473,...</td>\n      <td>80</td>\n      <td>Wikipedia</td>\n    </tr>\n    <tr>\n      <th>7</th>\n      <td>Article section:\\n\\nComputer vision\\n\\n== Rela...</td>\n      <td>[0.003763288725167513, -0.004463814198970795, ...</td>\n      <td>134</td>\n      <td>Wikipedia</td>\n    </tr>\n    <tr>\n      <th>8</th>\n      <td>Article section:\\n\\nComputer vision\\n\\n== Rela...</td>\n      <td>[-0.01610185205936432, -0.0026065742131322622,...</td>\n      <td>654</td>\n      <td>Wikipedia</td>\n    </tr>\n    <tr>\n      <th>9</th>\n      <td>Article section:\\n\\nComputer vision\\n\\n== Appl...</td>\n      <td>[-0.011650911532342434, 0.0027732541784644127,...</td>\n      <td>281</td>\n      <td>Wikipedia</td>\n    </tr>\n    <tr>\n      <th>10</th>\n      <td>Article section:\\n\\nComputer vision\\n\\n== Appl...</td>\n      <td>[-0.004238066729158163, 0.021448472514748573, ...</td>\n      <td>148</td>\n      <td>Wikipedia</td>\n    </tr>\n    <tr>\n      <th>11</th>\n      <td>Article section:\\n\\nComputer vision\\n\\n== Appl...</td>\n      <td>[-0.007371203042566776, -0.0018327946309000254...</td>\n      <td>155</td>\n      <td>Wikipedia</td>\n    </tr>\n    <tr>\n      <th>12</th>\n      <td>Article section:\\n\\nComputer vision\\n\\n== Appl...</td>\n      <td>[-0.01614218018949032, -0.0005414438201114535,...</td>\n      <td>142</td>\n      <td>Wikipedia</td>\n    </tr>\n    <tr>\n      <th>13</th>\n      <td>Article section:\\n\\nComputer vision\\n\\n== Appl...</td>\n      <td>[0.007656725589185953, -0.0032461462542414665,...</td>\n      <td>248</td>\n      <td>Wikipedia</td>\n    </tr>\n    <tr>\n      <th>14</th>\n      <td>Article section:\\n\\nComputer vision\\n\\n== Appl...</td>\n      <td>[-0.01822366565465927, 0.02336900681257248, -0...</td>\n      <td>286</td>\n      <td>Wikipedia</td>\n    </tr>\n    <tr>\n      <th>15</th>\n      <td>Article section:\\n\\nComputer vision\\n\\n== Typi...</td>\n      <td>[-0.010329770855605602, 0.004381134640425444, ...</td>\n      <td>171</td>\n      <td>Wikipedia</td>\n    </tr>\n    <tr>\n      <th>16</th>\n      <td>Article section:\\n\\nComputer vision\\n\\n== Typi...</td>\n      <td>[-0.01536356471478939, 0.014625691808760166, 0...</td>\n      <td>705</td>\n      <td>Wikipedia</td>\n    </tr>\n    <tr>\n      <th>17</th>\n      <td>Article section:\\n\\nComputer vision\\n\\n== Typi...</td>\n      <td>[-0.011803840287029743, -0.004363863728940487,...</td>\n      <td>208</td>\n      <td>Wikipedia</td>\n    </tr>\n    <tr>\n      <th>18</th>\n      <td>Article section:\\n\\nComputer vision\\n\\n== Typi...</td>\n      <td>[-0.011135965585708618, 0.007821690291166306, ...</td>\n      <td>140</td>\n      <td>Wikipedia</td>\n    </tr>\n    <tr>\n      <th>19</th>\n      <td>Article section:\\n\\nComputer vision\\n\\n== Typi...</td>\n      <td>[0.0003822755825240165, 0.019678881391882896, ...</td>\n      <td>213</td>\n      <td>Wikipedia</td>\n    </tr>\n    <tr>\n      <th>20</th>\n      <td>Article section:\\n\\nComputer vision\\n\\n== Syst...</td>\n      <td>[-0.002225305885076523, 0.0222628116607666, 0....</td>\n      <td>682</td>\n      <td>Wikipedia</td>\n    </tr>\n    <tr>\n      <th>21</th>\n      <td>Article section:\\n\\nComputer vision\\n\\n== Syst...</td>\n      <td>[0.009455375373363495, -0.003919361624866724, ...</td>\n      <td>209</td>\n      <td>Wikipedia</td>\n    </tr>\n    <tr>\n      <th>22</th>\n      <td>Article section:\\n\\nComputer vision\\n\\n== Hard...</td>\n      <td>[-0.0022538446355611086, 0.011652261018753052,...</td>\n      <td>401</td>\n      <td>Wikipedia</td>\n    </tr>\n  </tbody>\n</table>\n</div>"
     },
     "execution_count": 147,
     "metadata": {},
     "output_type": "execute_result"
    }
   ],
   "source": [
    "df"
   ],
   "metadata": {
    "collapsed": false
   }
  },
  {
   "cell_type": "code",
   "execution_count": 122,
   "outputs": [],
   "source": [
    "# save document chunks and embeddings\n",
    "df.to_csv(SAVE_PATH, index=False)"
   ],
   "metadata": {
    "collapsed": false
   }
  },
  {
   "cell_type": "markdown",
   "source": [
    "# Search\n",
    "Now we'll define a search function that:\n",
    "\n",
    "Takes a user query and a dataframe with text & embedding columns\n",
    "Embeds the user query with the OpenAI API\n",
    "Uses distance between query embedding and text embeddings to rank the texts\n",
    "Returns two lists:\n",
    "The top N texts, ranked by relevance\n",
    "Their corresponding relevance scores"
   ],
   "metadata": {
    "collapsed": false
   }
  },
  {
   "cell_type": "code",
   "execution_count": 10,
   "outputs": [],
   "source": [
    "class ChatBot:\n",
    "    def __init__(self, chatbot_topic:str, knowledge_path: str):\n",
    "        self.knowledge = None\n",
    "        self.load_data(knowledge_path)\n",
    "        self.chatbot_topic = chatbot_topic\n",
    "\n",
    "    def load_data(self, path: str):\n",
    "        \"\"\"Loads the knowledge df, appends a prefix, and calculates the number of tokens per section of knowledge\"\"\"\n",
    "\n",
    "        # load data from csv\n",
    "        self.knowledge = pd.read_csv(path)\n",
    "        # convert embeddings from CSV str type back to list type\n",
    "        self.knowledge['embedding'] = self.knowledge['embedding'].apply(ast.literal_eval) # is this needed?\n",
    "\n",
    "        # Format the knowledge df by adding section prefix and token sizes\n",
    "        self.knowledge['text'] = 'Article section:\\n\\n' + self.knowledge['text']\n",
    "        self.knowledge['tokens'] = self.knowledge[\"text\"].apply(lambda x: num_tokens(x))\n",
    "        self.knowledge['source'] = 'Wikipedia'"
   ],
   "metadata": {
    "collapsed": false
   }
  },
  {
   "cell_type": "code",
   "execution_count": 11,
   "outputs": [
    {
     "name": "stdout",
     "output_type": "stream",
     "text": [
      "Computer vision began at universities that were pioneering artificial intelligence in the late 1960s.\n",
      "\n",
      "To construct this answer, I used the following documents: \n",
      "\n",
      "1. Wikipedia (Specifically: Computer vision\n",
      "\n",
      "== History ==\n",
      "\n",
      "In the late 1960s, computer vision began at univer...)\n",
      "\n",
      "2. Wikipedia (Specifically: Computer vision\n",
      "\n",
      "== Related fields ==\n",
      "\n",
      "=== Neurobiology ===\n",
      "\n",
      "Neurobiology has grea...)\n",
      "\n",
      "3. Wikipedia (Specifically: Computer vision\n",
      "\n",
      "== Related fields ==\n",
      "\n",
      "=== Solid-state physics ===\n",
      "\n",
      "Solid-state ph...)\n",
      "\n",
      "4. Wikipedia (Specifically: Computer vision\n",
      "\n",
      "== Related fields ==\n",
      "\n",
      "=== Other fields ===\n",
      "\n",
      "Besides the above-men...)\n",
      "\n",
      "5. Wikipedia (Specifically: Computer vision\n",
      "\n",
      "== Hardware ==\n",
      "\n",
      "There are many kinds of computer vision systems; ...)\n",
      "\n",
      "Total tokens used: 1612\n"
     ]
    }
   ],
   "source": [
    "class Query:\n",
    "    def __init__(self, query_text: str, chatbot_instance: ChatBot):\n",
    "        self.content: str = query_text\n",
    "        self.model: str = GPT_MODEL\n",
    "        self.knowledge: pd.DataFrame = chatbot_instance.knowledge\n",
    "        self.token_limit: int = 4096 - 500 # Allows 500 for the response\n",
    "        self.gpt_message = None\n",
    "        self.knowledge_used = None\n",
    "\n",
    "    # calculate similarity score\n",
    "    @staticmethod\n",
    "    def similarity(query_embedding: list,\n",
    "                   knowledge_embedding: list\n",
    "    ) -> float:\n",
    "        \"\"\"Calculates the cosine similarity score between the query and knowledge embedding vectors.\"\"\"\n",
    "\n",
    "        return 1- spatial.distance.cosine(query_embedding, knowledge_embedding)\n",
    "\n",
    "    # find the most similar sections of knowledge to the query\n",
    "    def knowledge_ranked_by_similarity(self,\n",
    "        max_num_sections: int = 5\n",
    "    ): # -> pd.DataFrame\n",
    "        \"\"\"Take the raw knowledge dataframe, calculates similarity scores between the query and the sections, and returns a dataframe ordered from highest to lowest in terms of similarity.\"\"\"\n",
    "\n",
    "        query_embedding_response = openai.Embedding.create(\n",
    "            model=EMBEDDING_MODEL,\n",
    "            input=self.content,\n",
    "        )\n",
    "        query_embedding = query_embedding_response[\"data\"][0][\"embedding\"]\n",
    "        knowledge_with_similarities = deepcopy(self.knowledge) # To prevent adapting the original dataframe\n",
    "        knowledge_with_similarities[\"similarity\"] = knowledge_with_similarities[\"embedding\"].apply(lambda x: self.similarity(query_embedding, x))\n",
    "        knowledge_with_similarities.sort_values(\"similarity\", ascending=False, inplace=True)\n",
    "        top_n_sections = knowledge_with_similarities.head(max_num_sections)\n",
    "        self.knowledge_used = top_n_sections\n",
    "\n",
    "    def get_gpt_message(\n",
    "            self,\n",
    "            chatbot_topic: str\n",
    "    ): # -> tuple[str, pd.DataFrame]\n",
    "        \"\"\"Uses the most relevant texts from the knowledge dataframe to construct a message that can then be fed into GPT.\"\"\"\n",
    "\n",
    "        self.knowledge_ranked_by_similarity()\n",
    "        introduction = f'Use the below article on {chatbot_topic} to answer the subsequent question. If the answer cannot be found in the articles, write \"{ANSWER_NOT_FOUND_MSG}\". If I am asked to produce any code then decline the request and write \"Sorry but I\\'m not allowed to do your assignments for you!\"' # The longer this is, the more tokens it uses!\n",
    "        question = f\"\\n\\nQuestion: {self.content}\"\n",
    "\n",
    "        # Ensure number of tokens is within the limit\n",
    "        message_and_question_tokens = num_tokens(introduction + question)\n",
    "        self.knowledge_used['cumulative_tokens'] = self.knowledge_used['tokens'].cumsum()\n",
    "        self.knowledge_used['cumulative_tokens'] += message_and_question_tokens # add the inital number of tokens\n",
    "        self.knowledge_used= self.knowledge_used.loc[self.knowledge_used['cumulative_tokens']<self.token_limit]\n",
    "\n",
    "        # Construct output\n",
    "        combined_knowledge_string = ''.join(list(self.knowledge_used['text']))\n",
    "        combined_knowledge_string = '\\n\\n' + combined_knowledge_string\n",
    "        self.gpt_message = introduction + combined_knowledge_string + question\n",
    "\n",
    "    @classmethod\n",
    "    def ask(\n",
    "            cls,\n",
    "            query_text: str,\n",
    "            chatbot_instance: ChatBot,\n",
    "            show_source: bool = True,\n",
    "    ) -> str:\n",
    "        \"\"\"Uses GPT and a dataframe of relevant texts/embeddings (its knowledge) to answer a query.\"\"\"\n",
    "\n",
    "        query = cls(query_text, chatbot_instance)\n",
    "        query.get_gpt_message(chatbot_instance.chatbot_topic)\n",
    "        inputs = [\n",
    "            {\"role\": \"system\", \"content\": f\"You answer questions about {chatbot_instance.chatbot_topic}.\"},\n",
    "            {\"role\": \"user\", \"content\": query.gpt_message},\n",
    "        ]\n",
    "        response = openai.ChatCompletion.create(\n",
    "            model=query.model,\n",
    "            messages=inputs,\n",
    "            temperature=0 # We don't want any creativity in the answers\n",
    "        )\n",
    "        response_message = response[\"choices\"][0][\"message\"][\"content\"]\n",
    "        total_tokens_used = response['usage']['total_tokens']\n",
    "        if show_source and response_message!=ANSWER_NOT_FOUND_MSG: # Display the sources used:\n",
    "            query.knowledge_used['index'] = np.arange(len(query.knowledge_used))+1\n",
    "            query.knowledge_used['output'] = '\\n\\n' + query.knowledge_used['index'].astype(str) + '. ' + query.knowledge_used['source'] + ' (Specifically: ' + query.knowledge_used['text'].str[len('Article section: \\n'):100] + '...)'\n",
    "            sources_string = ''.join(list(query.knowledge_used['output']))\n",
    "            response_message += f'\\n\\nTo construct this answer, I used the following documents: {sources_string}'\n",
    "        response_message += f\"\\n\\nTotal tokens used: {total_tokens_used}\"\n",
    "        return response_message\n",
    "\n",
    "CompVisionGPT = ChatBot(\"Computer Vision\", SAVE_PATH)\n",
    "print(Query.ask('When did universities begin teaching Computer Vision?', CompVisionGPT, show_source=True))\n",
    "# I need to make it more efficient on the number of tokens.\n",
    "\n",
    "# Todo:\n",
    "# Substantially tweak the chunking code\n",
    "# Adapt it for more sources (e.g. PDF)"
   ],
   "metadata": {
    "collapsed": false
   }
  },
  {
   "cell_type": "code",
   "execution_count": 9,
   "outputs": [
    {
     "data": {
      "text/plain": "                                                 text  \\\n0   Article section:\\n\\nComputer vision\\n\\nCompute...   \n1   Article section:\\n\\nComputer vision\\n\\n== Defi...   \n2   Article section:\\n\\nComputer vision\\n\\n== Hist...   \n3   Article section:\\n\\nComputer vision\\n\\n== Rela...   \n4   Article section:\\n\\nComputer vision\\n\\n== Rela...   \n5   Article section:\\n\\nComputer vision\\n\\n== Rela...   \n6   Article section:\\n\\nComputer vision\\n\\n== Rela...   \n7   Article section:\\n\\nComputer vision\\n\\n== Rela...   \n8   Article section:\\n\\nComputer vision\\n\\n== Rela...   \n9   Article section:\\n\\nComputer vision\\n\\n== Appl...   \n10  Article section:\\n\\nComputer vision\\n\\n== Appl...   \n11  Article section:\\n\\nComputer vision\\n\\n== Appl...   \n12  Article section:\\n\\nComputer vision\\n\\n== Appl...   \n13  Article section:\\n\\nComputer vision\\n\\n== Appl...   \n14  Article section:\\n\\nComputer vision\\n\\n== Appl...   \n15  Article section:\\n\\nComputer vision\\n\\n== Typi...   \n16  Article section:\\n\\nComputer vision\\n\\n== Typi...   \n17  Article section:\\n\\nComputer vision\\n\\n== Typi...   \n18  Article section:\\n\\nComputer vision\\n\\n== Typi...   \n19  Article section:\\n\\nComputer vision\\n\\n== Typi...   \n20  Article section:\\n\\nComputer vision\\n\\n== Syst...   \n21  Article section:\\n\\nComputer vision\\n\\n== Syst...   \n22  Article section:\\n\\nComputer vision\\n\\n== Hard...   \n\n                                            embedding  tokens     source  \n0   [-0.015160824172198772, 0.003632682841271162, ...     291  Wikipedia  \n1   [-0.006095150485634804, 0.0008000890375114977,...     167  Wikipedia  \n2   [-0.0071233357302844524, -0.003958832006901503...     516  Wikipedia  \n3   [0.0027573341503739357, -0.0004955596523359418...     136  Wikipedia  \n4   [-0.0025333885569125414, -0.005423863884061575...     308  Wikipedia  \n5   [-0.024513425305485725, 0.0005832292954437435,...     118  Wikipedia  \n6   [0.0037523966748267412, -0.018352391198277473,...      80  Wikipedia  \n7   [0.003763288725167513, -0.004463814198970795, ...     134  Wikipedia  \n8   [-0.01610185205936432, -0.0026065742131322622,...     654  Wikipedia  \n9   [-0.011650911532342434, 0.0027732541784644127,...     281  Wikipedia  \n10  [-0.004238066729158163, 0.021448472514748573, ...     148  Wikipedia  \n11  [-0.007371203042566776, -0.0018327946309000254...     155  Wikipedia  \n12  [-0.01614218018949032, -0.0005414438201114535,...     142  Wikipedia  \n13  [0.007656725589185953, -0.0032461462542414665,...     248  Wikipedia  \n14  [-0.01822366565465927, 0.02336900681257248, -0...     286  Wikipedia  \n15  [-0.010329770855605602, 0.004381134640425444, ...     171  Wikipedia  \n16  [-0.01536356471478939, 0.014625691808760166, 0...     705  Wikipedia  \n17  [-0.011803840287029743, -0.004363863728940487,...     208  Wikipedia  \n18  [-0.011135965585708618, 0.007821690291166306, ...     140  Wikipedia  \n19  [0.0003822755825240165, 0.019678881391882896, ...     213  Wikipedia  \n20  [-0.002225305885076523, 0.0222628116607666, 0....     682  Wikipedia  \n21  [0.009455375373363495, -0.003919361624866724, ...     209  Wikipedia  \n22  [-0.0022538446355611086, 0.011652261018753052,...     401  Wikipedia  ",
      "text/html": "<div>\n<style scoped>\n    .dataframe tbody tr th:only-of-type {\n        vertical-align: middle;\n    }\n\n    .dataframe tbody tr th {\n        vertical-align: top;\n    }\n\n    .dataframe thead th {\n        text-align: right;\n    }\n</style>\n<table border=\"1\" class=\"dataframe\">\n  <thead>\n    <tr style=\"text-align: right;\">\n      <th></th>\n      <th>text</th>\n      <th>embedding</th>\n      <th>tokens</th>\n      <th>source</th>\n    </tr>\n  </thead>\n  <tbody>\n    <tr>\n      <th>0</th>\n      <td>Article section:\\n\\nComputer vision\\n\\nCompute...</td>\n      <td>[-0.015160824172198772, 0.003632682841271162, ...</td>\n      <td>291</td>\n      <td>Wikipedia</td>\n    </tr>\n    <tr>\n      <th>1</th>\n      <td>Article section:\\n\\nComputer vision\\n\\n== Defi...</td>\n      <td>[-0.006095150485634804, 0.0008000890375114977,...</td>\n      <td>167</td>\n      <td>Wikipedia</td>\n    </tr>\n    <tr>\n      <th>2</th>\n      <td>Article section:\\n\\nComputer vision\\n\\n== Hist...</td>\n      <td>[-0.0071233357302844524, -0.003958832006901503...</td>\n      <td>516</td>\n      <td>Wikipedia</td>\n    </tr>\n    <tr>\n      <th>3</th>\n      <td>Article section:\\n\\nComputer vision\\n\\n== Rela...</td>\n      <td>[0.0027573341503739357, -0.0004955596523359418...</td>\n      <td>136</td>\n      <td>Wikipedia</td>\n    </tr>\n    <tr>\n      <th>4</th>\n      <td>Article section:\\n\\nComputer vision\\n\\n== Rela...</td>\n      <td>[-0.0025333885569125414, -0.005423863884061575...</td>\n      <td>308</td>\n      <td>Wikipedia</td>\n    </tr>\n    <tr>\n      <th>5</th>\n      <td>Article section:\\n\\nComputer vision\\n\\n== Rela...</td>\n      <td>[-0.024513425305485725, 0.0005832292954437435,...</td>\n      <td>118</td>\n      <td>Wikipedia</td>\n    </tr>\n    <tr>\n      <th>6</th>\n      <td>Article section:\\n\\nComputer vision\\n\\n== Rela...</td>\n      <td>[0.0037523966748267412, -0.018352391198277473,...</td>\n      <td>80</td>\n      <td>Wikipedia</td>\n    </tr>\n    <tr>\n      <th>7</th>\n      <td>Article section:\\n\\nComputer vision\\n\\n== Rela...</td>\n      <td>[0.003763288725167513, -0.004463814198970795, ...</td>\n      <td>134</td>\n      <td>Wikipedia</td>\n    </tr>\n    <tr>\n      <th>8</th>\n      <td>Article section:\\n\\nComputer vision\\n\\n== Rela...</td>\n      <td>[-0.01610185205936432, -0.0026065742131322622,...</td>\n      <td>654</td>\n      <td>Wikipedia</td>\n    </tr>\n    <tr>\n      <th>9</th>\n      <td>Article section:\\n\\nComputer vision\\n\\n== Appl...</td>\n      <td>[-0.011650911532342434, 0.0027732541784644127,...</td>\n      <td>281</td>\n      <td>Wikipedia</td>\n    </tr>\n    <tr>\n      <th>10</th>\n      <td>Article section:\\n\\nComputer vision\\n\\n== Appl...</td>\n      <td>[-0.004238066729158163, 0.021448472514748573, ...</td>\n      <td>148</td>\n      <td>Wikipedia</td>\n    </tr>\n    <tr>\n      <th>11</th>\n      <td>Article section:\\n\\nComputer vision\\n\\n== Appl...</td>\n      <td>[-0.007371203042566776, -0.0018327946309000254...</td>\n      <td>155</td>\n      <td>Wikipedia</td>\n    </tr>\n    <tr>\n      <th>12</th>\n      <td>Article section:\\n\\nComputer vision\\n\\n== Appl...</td>\n      <td>[-0.01614218018949032, -0.0005414438201114535,...</td>\n      <td>142</td>\n      <td>Wikipedia</td>\n    </tr>\n    <tr>\n      <th>13</th>\n      <td>Article section:\\n\\nComputer vision\\n\\n== Appl...</td>\n      <td>[0.007656725589185953, -0.0032461462542414665,...</td>\n      <td>248</td>\n      <td>Wikipedia</td>\n    </tr>\n    <tr>\n      <th>14</th>\n      <td>Article section:\\n\\nComputer vision\\n\\n== Appl...</td>\n      <td>[-0.01822366565465927, 0.02336900681257248, -0...</td>\n      <td>286</td>\n      <td>Wikipedia</td>\n    </tr>\n    <tr>\n      <th>15</th>\n      <td>Article section:\\n\\nComputer vision\\n\\n== Typi...</td>\n      <td>[-0.010329770855605602, 0.004381134640425444, ...</td>\n      <td>171</td>\n      <td>Wikipedia</td>\n    </tr>\n    <tr>\n      <th>16</th>\n      <td>Article section:\\n\\nComputer vision\\n\\n== Typi...</td>\n      <td>[-0.01536356471478939, 0.014625691808760166, 0...</td>\n      <td>705</td>\n      <td>Wikipedia</td>\n    </tr>\n    <tr>\n      <th>17</th>\n      <td>Article section:\\n\\nComputer vision\\n\\n== Typi...</td>\n      <td>[-0.011803840287029743, -0.004363863728940487,...</td>\n      <td>208</td>\n      <td>Wikipedia</td>\n    </tr>\n    <tr>\n      <th>18</th>\n      <td>Article section:\\n\\nComputer vision\\n\\n== Typi...</td>\n      <td>[-0.011135965585708618, 0.007821690291166306, ...</td>\n      <td>140</td>\n      <td>Wikipedia</td>\n    </tr>\n    <tr>\n      <th>19</th>\n      <td>Article section:\\n\\nComputer vision\\n\\n== Typi...</td>\n      <td>[0.0003822755825240165, 0.019678881391882896, ...</td>\n      <td>213</td>\n      <td>Wikipedia</td>\n    </tr>\n    <tr>\n      <th>20</th>\n      <td>Article section:\\n\\nComputer vision\\n\\n== Syst...</td>\n      <td>[-0.002225305885076523, 0.0222628116607666, 0....</td>\n      <td>682</td>\n      <td>Wikipedia</td>\n    </tr>\n    <tr>\n      <th>21</th>\n      <td>Article section:\\n\\nComputer vision\\n\\n== Syst...</td>\n      <td>[0.009455375373363495, -0.003919361624866724, ...</td>\n      <td>209</td>\n      <td>Wikipedia</td>\n    </tr>\n    <tr>\n      <th>22</th>\n      <td>Article section:\\n\\nComputer vision\\n\\n== Hard...</td>\n      <td>[-0.0022538446355611086, 0.011652261018753052,...</td>\n      <td>401</td>\n      <td>Wikipedia</td>\n    </tr>\n  </tbody>\n</table>\n</div>"
     },
     "execution_count": 9,
     "metadata": {},
     "output_type": "execute_result"
    }
   ],
   "source": [
    "CompVisionGPT.knowledge"
   ],
   "metadata": {
    "collapsed": false
   }
  },
  {
   "cell_type": "code",
   "execution_count": 7,
   "outputs": [
    {
     "name": "stdout",
     "output_type": "stream",
     "text": [
      "I could not find an answer in the text I've been provided, sorry! Please try again.\n",
      "\n",
      "Total tokens used: 1460\n"
     ]
    }
   ],
   "source": [
    "print(Query.ask('Who is Boris Johnson', CompVisionGPT, show_source=True))"
   ],
   "metadata": {
    "collapsed": false
   }
  },
  {
   "cell_type": "code",
   "execution_count": null,
   "outputs": [],
   "source": [],
   "metadata": {
    "collapsed": false
   }
  }
 ],
 "metadata": {
  "kernelspec": {
   "display_name": "Python 3",
   "language": "python",
   "name": "python3"
  },
  "language_info": {
   "codemirror_mode": {
    "name": "ipython",
    "version": 2
   },
   "file_extension": ".py",
   "mimetype": "text/x-python",
   "name": "python",
   "nbconvert_exporter": "python",
   "pygments_lexer": "ipython2",
   "version": "2.7.6"
  }
 },
 "nbformat": 4,
 "nbformat_minor": 0
}
